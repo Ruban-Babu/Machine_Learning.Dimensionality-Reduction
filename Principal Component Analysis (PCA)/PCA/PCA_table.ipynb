{
 "cells": [
  {
   "cell_type": "code",
   "execution_count": 11,
   "id": "4a068d1d",
   "metadata": {},
   "outputs": [
    {
     "name": "stdout",
     "output_type": "stream",
     "text": [
      "                 Model  Accuracy\n",
      "0  Logistic Regression       1.0\n",
      "1  SVM (Linear Kernel)       1.0\n",
      "2     SVM (RBF Kernel)       1.0\n",
      "3        Decision Tree       1.0\n",
      "4        Random Forest       1.0\n"
     ]
    }
   ],
   "source": [
    "import pandas as pd\n",
    "from sklearn.model_selection import train_test_split\n",
    "from sklearn.preprocessing import StandardScaler\n",
    "from sklearn.decomposition import PCA\n",
    "from sklearn.linear_model import LogisticRegression\n",
    "from sklearn.svm import SVC\n",
    "from sklearn.tree import DecisionTreeClassifier\n",
    "from sklearn.ensemble import RandomForestClassifier\n",
    "from sklearn.metrics import accuracy_score\n",
    "from sklearn.compose import ColumnTransformer\n",
    "\n",
    "# Load the dataset\n",
    "data = pd.read_csv(\"prep.csv\")\n",
    "\n",
    "# Separate the independent variables (features) and the dependent variable (target)\n",
    "X = data.drop('classification', axis=1)\n",
    "y = data['classification']\n",
    "\n",
    "# Perform one-hot encoding on categorical variables\n",
    "X_encoded = pd.get_dummies(X)\n",
    "\n",
    "# Split the data into training and test sets\n",
    "X_train, X_test, y_train, y_test = train_test_split(X_encoded, y, test_size=0.25, random_state=0)\n",
    "\n",
    "# Standardize the features\n",
    "scaler = StandardScaler()\n",
    "X_train_scaled = scaler.fit_transform(X_train)\n",
    "X_test_scaled = scaler.transform(X_test)\n",
    "\n",
    "# Apply PCA for dimensionality reduction\n",
    "pca = PCA(n_components=3)\n",
    "X_train_pca = pca.fit_transform(X_train_scaled)\n",
    "X_test_pca = pca.transform(X_test_scaled)\n",
    "\n",
    "# Define classification models\n",
    "logistic_reg = LogisticRegression(random_state=0)\n",
    "svm_linear = SVC(kernel='linear')\n",
    "svm_rbf = SVC(kernel='rbf')\n",
    "decision_tree = DecisionTreeClassifier(random_state=0)\n",
    "random_forest = RandomForestClassifier(n_estimators=10, random_state=0)\n",
    "\n",
    "# Train and evaluate classification models\n",
    "models = [logistic_reg, svm_linear, svm_rbf, decision_tree, random_forest]\n",
    "model_names = ['Logistic Regression', 'SVM (Linear Kernel)', 'SVM (RBF Kernel)', 'Decision Tree', 'Random Forest']\n",
    "accuracies = []\n",
    "\n",
    "for model in models:\n",
    "    model.fit(X_train_pca, y_train)\n",
    "    y_pred = model.predict(X_test_pca)\n",
    "    accuracy = accuracy_score(y_test, y_pred)\n",
    "    accuracies.append(accuracy)\n",
    "\n",
    "# Display the results\n",
    "results_df = pd.DataFrame({'Model': model_names, 'Accuracy': accuracies})\n",
    "print(results_df)\n"
   ]
  },
  {
   "cell_type": "code",
   "execution_count": null,
   "id": "f342d4d3",
   "metadata": {},
   "outputs": [],
   "source": []
  }
 ],
 "metadata": {
  "kernelspec": {
   "display_name": "Python 3 (ipykernel)",
   "language": "python",
   "name": "python3"
  },
  "language_info": {
   "codemirror_mode": {
    "name": "ipython",
    "version": 3
   },
   "file_extension": ".py",
   "mimetype": "text/x-python",
   "name": "python",
   "nbconvert_exporter": "python",
   "pygments_lexer": "ipython3",
   "version": "3.7.6"
  }
 },
 "nbformat": 4,
 "nbformat_minor": 5
}
